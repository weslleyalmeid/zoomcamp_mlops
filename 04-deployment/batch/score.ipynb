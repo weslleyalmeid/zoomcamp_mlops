{
 "cells": [
  {
   "cell_type": "code",
   "execution_count": 75,
   "id": "2e25cf66",
   "metadata": {},
   "outputs": [],
   "source": [
    "import os\n",
    "import uuid\n",
    "import pickle\n",
    "\n",
    "import pandas as pd\n",
    "\n",
    "import mlflow\n",
    "from io import BytesIO\n",
    "\n",
    "from sklearn.feature_extraction import DictVectorizer\n",
    "from sklearn.ensemble import RandomForestRegressor\n",
    "from sklearn.metrics import mean_squared_error\n",
    "from sklearn.pipeline import make_pipeline"
   ]
  },
  {
   "cell_type": "code",
   "execution_count": 76,
   "id": "2b9412b8",
   "metadata": {},
   "outputs": [],
   "source": [
    "from dotenv import load_dotenv\n",
    "# Carregar as variáveis de ambiente do arquivo .secrets\n",
    "load_dotenv('.secrets')\n",
    "\n",
    "RUN_ID = os.getenv('RUN_ID')\n",
    "\n",
    "# logged_model = f'runs:/{RUN_ID}/model'\n",
    "\n",
    "# Definir a configuração do backend store do MLflow\n",
    "os.environ['MLFLOW_S3_ENDPOINT_URL'] = os.getenv('minio_endpoint_url')\n",
    "os.environ['AWS_ACCESS_KEY_ID'] = os.getenv('minio_access_key')\n",
    "os.environ['AWS_SECRET_ACCESS_KEY'] = os.getenv('minio_secret_key')"
   ]
  },
  {
   "cell_type": "code",
   "execution_count": 77,
   "id": "167e6c4b",
   "metadata": {},
   "outputs": [],
   "source": [
    "import boto3\n",
    "\n",
    "# Criação do cliente S3 apontando para o MinIO\n",
    "s3_client = boto3.client('s3',\n",
    "                         endpoint_url=os.environ['MLFLOW_S3_ENDPOINT_URL'],\n",
    "                         aws_access_key_id=os.environ['AWS_ACCESS_KEY_ID'],\n",
    "                         aws_secret_access_key=os.environ['AWS_SECRET_ACCESS_KEY'])"
   ]
  },
  {
   "cell_type": "code",
   "execution_count": 78,
   "id": "5887deea",
   "metadata": {},
   "outputs": [],
   "source": [
    "year = 2021\n",
    "month = 3\n",
    "taxi_type = 'green'\n",
    "\n",
    "bucket_name = 'test-minio'\n",
    "in_file_name = f'{taxi_type}_tripdata_{year:04d}-{month:02d}.parquet'\n",
    "\n",
    "out_path = f'output/{taxi_type}'\n",
    "out_file_name = f'{year:04d}-{month:02d}.parquet'\n",
    "\n",
    "input_file = f'https://s3.amazonaws.com/nyc-tlc/trip+data/{in_file_name}'\n",
    "\n",
    "RUN_ID = os.getenv('RUN_ID', '874e7ae01334406590ac62ddc0422882')"
   ]
  },
  {
   "cell_type": "code",
   "execution_count": 79,
   "id": "d3e6e9af",
   "metadata": {},
   "outputs": [],
   "source": [
    "response = s3_client.get_object(Bucket=bucket_name, Key=in_file_name)\n",
    "parquet_file = response['Body'].read()\n",
    "input_file = BytesIO(parquet_file)"
   ]
  },
  {
   "cell_type": "code",
   "execution_count": 80,
   "id": "b9666e19",
   "metadata": {},
   "outputs": [],
   "source": [
    "def generate_uuids(n):\n",
    "    ride_ids = []\n",
    "    for i in range(n):\n",
    "        ride_ids.append(str(uuid.uuid4()))\n",
    "    return ride_ids\n",
    "\n",
    "def read_dataframe(filename: str):\n",
    "    df = pd.read_parquet(filename)\n",
    "\n",
    "    df['duration'] = df.lpep_dropoff_datetime - df.lpep_pickup_datetime\n",
    "    df.duration = df.duration.dt.total_seconds() / 60\n",
    "    df = df[(df.duration >= 1) & (df.duration <= 60)]\n",
    "    \n",
    "    df['ride_id'] = generate_uuids(len(df))\n",
    "\n",
    "    return df\n",
    "\n",
    "\n",
    "def prepare_dictionaries(df: pd.DataFrame):\n",
    "    categorical = ['PULocationID', 'DOLocationID']\n",
    "    df[categorical] = df[categorical].astype(str)\n",
    "    \n",
    "    df['PU_DO'] = df['PULocationID'] + '_' + df['DOLocationID']\n",
    "\n",
    "    categorical = ['PU_DO']\n",
    "    numerical = ['trip_distance']\n",
    "    dicts = df[categorical + numerical].to_dict(orient='records')\n",
    "    return dicts"
   ]
  },
  {
   "cell_type": "code",
   "execution_count": 81,
   "id": "6b5f0d80",
   "metadata": {},
   "outputs": [],
   "source": [
    "def load_model(run_id):\n",
    "    logged_model = f's3://mlflow-models/1/{RUN_ID}/artifacts/model'\n",
    "    model = mlflow.pyfunc.load_model(logged_model)\n",
    "    return model\n",
    "\n",
    "\n",
    "def apply_model(input_file, run_id, out_path, out_file_name):\n",
    "\n",
    "    df = read_dataframe(input_file)\n",
    "    dicts = prepare_dictionaries(df)\n",
    "\n",
    "    \n",
    "    model = load_model(run_id)\n",
    "    y_pred = model.predict(dicts)\n",
    "\n",
    "    df_result = pd.DataFrame()\n",
    "    df_result['ride_id'] = df['ride_id']\n",
    "    df_result['lpep_pickup_datetime'] = df['lpep_pickup_datetime']\n",
    "    df_result['PULocationID'] = df['PULocationID']\n",
    "    df_result['DOLocationID'] = df['DOLocationID']\n",
    "    df_result['actual_duration'] = df['duration']\n",
    "    df_result['predicted_duration'] = y_pred\n",
    "    df_result['diff'] = df_result['actual_duration'] - df_result['predicted_duration']\n",
    "    df_result['model_version'] = run_id\n",
    "    \n",
    "    os.makedirs(out_path, exist_ok=True)\n",
    "\n",
    "    df_result.to_parquet(os.path.join(out_path, out_file_name), index=False)"
   ]
  },
  {
   "cell_type": "code",
   "execution_count": 82,
   "id": "cc2899e7",
   "metadata": {},
   "outputs": [],
   "source": [
    "apply_model(input_file=input_file, run_id=RUN_ID, out_path=out_path, out_file_name=out_file_name)"
   ]
  },
  {
   "cell_type": "code",
   "execution_count": 83,
   "id": "b75bd6c9",
   "metadata": {},
   "outputs": [
    {
     "name": "stdout",
     "output_type": "stream",
     "text": [
      "2021-02.parquet  2021-03.parquet\n"
     ]
    }
   ],
   "source": [
    "!ls output/green/"
   ]
  }
 ],
 "metadata": {
  "kernelspec": {
   "display_name": "Python 3 (ipykernel)",
   "language": "python",
   "name": "python3"
  },
  "language_info": {
   "codemirror_mode": {
    "name": "ipython",
    "version": 3
   },
   "file_extension": ".py",
   "mimetype": "text/x-python",
   "name": "python",
   "nbconvert_exporter": "python",
   "pygments_lexer": "ipython3",
   "version": "3.8.13"
  }
 },
 "nbformat": 4,
 "nbformat_minor": 5
}
