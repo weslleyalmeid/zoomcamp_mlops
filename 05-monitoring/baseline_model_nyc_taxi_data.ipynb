{
 "cells": [
  {
   "attachments": {},
   "cell_type": "markdown",
   "id": "7bf05e7e",
   "metadata": {},
   "source": [
    "# Baseline model for batch monitoring example"
   ]
  },
  {
   "cell_type": "code",
   "execution_count": null,
   "id": "7320039b",
   "metadata": {},
   "outputs": [],
   "source": [
    "import requests\n",
    "import datetime\n",
    "import pandas as pd\n",
    "import inspect\n",
    "\n",
    "from evidently import ColumnMapping\n",
    "from evidently.report import Report\n",
    "from evidently.metrics import (\n",
    "    ColumnDriftMetric, DatasetDriftMetric, DatasetMissingValuesMetric,\n",
    "    DatasetCorrelationsMetric, ColumnQuantileMetric\n",
    ")\n",
    "\n",
    "from joblib import load, dump\n",
    "from tqdm import tqdm\n",
    "\n",
    "from sklearn.linear_model import LinearRegression\n",
    "from sklearn.metrics import mean_absolute_error, mean_absolute_percentage_error"
   ]
  },
  {
   "cell_type": "code",
   "execution_count": null,
   "id": "ebcd8eb5",
   "metadata": {},
   "outputs": [],
   "source": [
    "files = [('green_tripdata_2022-02.parquet', './data'), ('green_tripdata_2022-01.parquet', './data')]\n",
    "\n",
    "print(\"Download files:\")\n",
    "for file, path in files:\n",
    "    url=f\"https://d37ci6vzurychx.cloudfront.net/trip-data/{file}\"\n",
    "    resp=requests.get(url, stream=True)\n",
    "    save_path=f\"{path}/{file}\"\n",
    "    with open(save_path, \"wb\") as handle:\n",
    "        for data in tqdm(resp.iter_content(),\n",
    "                        desc=f\"{file}\",\n",
    "                        postfix=f\"save to {save_path}\",\n",
    "                        total=int(resp.headers[\"Content-Length\"])):\n",
    "            handle.write(data)"
   ]
  },
  {
   "cell_type": "code",
   "execution_count": null,
   "id": "6735ae38",
   "metadata": {},
   "outputs": [],
   "source": [
    "jan_data = pd.read_parquet('data/green_tripdata_2022-01.parquet')"
   ]
  },
  {
   "cell_type": "code",
   "execution_count": null,
   "id": "29779686",
   "metadata": {},
   "outputs": [],
   "source": [
    "jan_data.describe()"
   ]
  },
  {
   "cell_type": "code",
   "execution_count": null,
   "id": "b44c37b2",
   "metadata": {},
   "outputs": [],
   "source": [
    "jan_data.shape"
   ]
  },
  {
   "cell_type": "code",
   "execution_count": null,
   "id": "f2934d16",
   "metadata": {},
   "outputs": [],
   "source": [
    "# create target\n",
    "jan_data[\"duration_min\"] = jan_data.lpep_dropoff_datetime - jan_data.lpep_pickup_datetime\n",
    "jan_data.duration_min = jan_data.duration_min.apply(lambda td : float(td.total_seconds())/60)"
   ]
  },
  {
   "cell_type": "code",
   "execution_count": null,
   "id": "63210877",
   "metadata": {},
   "outputs": [],
   "source": [
    "# filter out outlires\n",
    "jan_data = jan_data[(jan_data.duration_min >= 0) & (jan_data.duration_min <= 60)]\n",
    "jan_data = jan_data[(jan_data.passenger_count > 0) & (jan_data.passenger_count <= 8)]"
   ]
  },
  {
   "cell_type": "code",
   "execution_count": null,
   "id": "56b31a22",
   "metadata": {},
   "outputs": [],
   "source": [
    "jan_data.duration_min.hist()"
   ]
  },
  {
   "cell_type": "code",
   "execution_count": null,
   "id": "e40dff98",
   "metadata": {},
   "outputs": [],
   "source": [
    "# data labeling\n",
    "target = \"duration_min\"\n",
    "num_features = [\"passenger_count\", \"trip_distance\", \"fare_amount\", \"total_amount\"]\n",
    "cat_features = [\"PULocationID\", \"DOLocationID\"]"
   ]
  },
  {
   "cell_type": "code",
   "execution_count": null,
   "id": "bc0c22a5",
   "metadata": {},
   "outputs": [],
   "source": [
    "jan_data.shape"
   ]
  },
  {
   "cell_type": "code",
   "execution_count": null,
   "id": "05a265a0",
   "metadata": {},
   "outputs": [],
   "source": [
    "train_data = jan_data[:30000]\n",
    "val_data = jan_data[30000:]"
   ]
  },
  {
   "cell_type": "code",
   "execution_count": null,
   "id": "e9fb4fc9",
   "metadata": {},
   "outputs": [],
   "source": [
    "model = LinearRegression()"
   ]
  },
  {
   "cell_type": "code",
   "execution_count": null,
   "id": "0baed5ae",
   "metadata": {},
   "outputs": [],
   "source": [
    "model.fit(train_data[num_features + cat_features], train_data[target])"
   ]
  },
  {
   "cell_type": "code",
   "execution_count": null,
   "id": "c1fa3c38",
   "metadata": {},
   "outputs": [],
   "source": [
    "train_preds = model.predict(train_data[num_features + cat_features])\n",
    "train_data['prediction'] = train_preds"
   ]
  },
  {
   "cell_type": "code",
   "execution_count": null,
   "id": "84293b52",
   "metadata": {},
   "outputs": [],
   "source": [
    "val_preds = model.predict(val_data[num_features + cat_features])\n",
    "val_data['prediction'] = val_preds"
   ]
  },
  {
   "cell_type": "code",
   "execution_count": null,
   "id": "0af9d288",
   "metadata": {},
   "outputs": [],
   "source": [
    "print(mean_absolute_error(train_data.duration_min, train_data.prediction))\n",
    "print(mean_absolute_error(val_data.duration_min, val_data.prediction))"
   ]
  },
  {
   "attachments": {},
   "cell_type": "markdown",
   "id": "fc441899",
   "metadata": {},
   "source": [
    "# Dump model and reference data"
   ]
  },
  {
   "cell_type": "code",
   "execution_count": null,
   "id": "dfb4068b",
   "metadata": {},
   "outputs": [],
   "source": [
    "with open('models/lin_reg.bin', 'wb') as f_out:\n",
    "    dump(model, f_out)"
   ]
  },
  {
   "cell_type": "code",
   "execution_count": null,
   "id": "a1aa065f",
   "metadata": {},
   "outputs": [],
   "source": [
    "val_data.to_parquet('data/reference.parquet')"
   ]
  },
  {
   "attachments": {},
   "cell_type": "markdown",
   "id": "a195b327",
   "metadata": {},
   "source": [
    "# Evidently Report"
   ]
  },
  {
   "cell_type": "code",
   "execution_count": null,
   "id": "8e710397",
   "metadata": {},
   "outputs": [],
   "source": [
    "print(inspect.getsource(ColumnMapping))"
   ]
  },
  {
   "cell_type": "code",
   "execution_count": null,
   "id": "56403137",
   "metadata": {},
   "outputs": [],
   "source": [
    "\n",
    "column_mapping = ColumnMapping(\n",
    "    target=None,\n",
    "    prediction='prediction',\n",
    "    numerical_features=num_features,\n",
    "    categorical_features=cat_features\n",
    ")"
   ]
  },
  {
   "cell_type": "code",
   "execution_count": null,
   "id": "36bf31c2",
   "metadata": {},
   "outputs": [],
   "source": [
    "report = Report(metrics=[\n",
    "    ColumnDriftMetric(column_name='prediction'),\n",
    "    DatasetDriftMetric(),\n",
    "    DatasetMissingValuesMetric(),\n",
    "    DatasetCorrelationsMetric(),\n",
    "    ColumnQuantileMetric(column_name='fare_amount', quantile=0.5)\n",
    "]\n",
    ")"
   ]
  },
  {
   "cell_type": "code",
   "execution_count": null,
   "id": "996eb8b8",
   "metadata": {},
   "outputs": [],
   "source": [
    "report.run(reference_data=train_data, current_data=val_data, column_mapping=column_mapping)"
   ]
  },
  {
   "cell_type": "code",
   "execution_count": null,
   "id": "3e7aaea2",
   "metadata": {
    "scrolled": false
   },
   "outputs": [],
   "source": [
    "report.show(mode='inline')"
   ]
  },
  {
   "cell_type": "code",
   "execution_count": null,
   "id": "397adec5",
   "metadata": {},
   "outputs": [],
   "source": [
    "result = report.as_dict()"
   ]
  },
  {
   "cell_type": "code",
   "execution_count": null,
   "id": "84c99580",
   "metadata": {
    "scrolled": true
   },
   "outputs": [],
   "source": [
    "result"
   ]
  },
  {
   "cell_type": "code",
   "execution_count": null,
   "id": "7fa07745",
   "metadata": {},
   "outputs": [],
   "source": [
    "#prediction drift\n",
    "result['metrics'][0]['result']['drift_score']"
   ]
  },
  {
   "cell_type": "code",
   "execution_count": null,
   "id": "e1c8f836",
   "metadata": {},
   "outputs": [],
   "source": [
    "#number of drifted columns\n",
    "result['metrics'][1]['result']['number_of_drifted_columns']"
   ]
  },
  {
   "cell_type": "code",
   "execution_count": null,
   "id": "71c07269",
   "metadata": {},
   "outputs": [],
   "source": [
    "#share of missing values\n",
    "result['metrics'][2]['result']['current']['share_of_missing_values']"
   ]
  }
 ],
 "metadata": {
  "kernelspec": {
   "display_name": "Python 3 (ipykernel)",
   "language": "python",
   "name": "python3"
  },
  "language_info": {
   "codemirror_mode": {
    "name": "ipython",
    "version": 3
   },
   "file_extension": ".py",
   "mimetype": "text/x-python",
   "name": "python",
   "nbconvert_exporter": "python",
   "pygments_lexer": "ipython3",
   "version": "3.11.3"
  }
 },
 "nbformat": 4,
 "nbformat_minor": 5
}
